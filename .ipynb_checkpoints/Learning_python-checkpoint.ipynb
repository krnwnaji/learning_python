{
 "cells": [
  {
   "cell_type": "markdown",
   "id": "d256f330",
   "metadata": {},
   "source": [
    "# This is my Python Learning's Notebook\n",
    "\n",
    "Source : https://www.youtube.com/watch?v=rfscVS0vtbw"
   ]
  },
  {
   "cell_type": "markdown",
   "id": "58c04403",
   "metadata": {},
   "source": [
    "## Functions"
   ]
  },
  {
   "cell_type": "code",
   "execution_count": 5,
   "id": "21bb455d",
   "metadata": {},
   "outputs": [
    {
     "name": "stdout",
     "output_type": "stream",
     "text": [
      "Hi my name is Kurniawan and I am 27!\n"
     ]
    }
   ],
   "source": [
    "def nameGenerator(name,age):\n",
    "    print(\"Hi my name is \" + name + \" and I am \" + str(age) + \"!\")\n",
    "    \n",
    "nameGenerator(\"Kurniawan\", 27)"
   ]
  },
  {
   "cell_type": "code",
   "execution_count": 16,
   "id": "2888ff15",
   "metadata": {},
   "outputs": [
    {
     "name": "stdout",
     "output_type": "stream",
     "text": [
      "27\n"
     ]
    }
   ],
   "source": [
    "## define a new function to cube a number\n",
    "def cube(num):\n",
    "    return num*num*num\n",
    "\n",
    "# storing the result in result1 variable\n",
    "result1 = cube(3)\n",
    "print(result1)"
   ]
  },
  {
   "cell_type": "code",
   "execution_count": 14,
   "id": "0f984ecd",
   "metadata": {},
   "outputs": [
    {
     "name": "stdout",
     "output_type": "stream",
     "text": [
      "I printed\n",
      "Now let us see what the values of f1 and f2 are\n",
      "None\n",
      "I returned\n",
      "I printed\n"
     ]
    }
   ],
   "source": [
    "def function_that_prints(): ## Printed doesn't store as a value\n",
    "    print(\"I printed\") \n",
    "\n",
    "def function_that_returns(): ## Return create a value back\n",
    "    return \"I returned\" \n",
    "\n",
    "f1 = function_that_prints()\n",
    "f2 = function_that_returns()\n",
    "print(\"Now let us see what the values of f1 and f2 are\")\n",
    "print(f1) # if we print print() statement that stored in var, its not have any value\n",
    "print(f2)\n",
    "\n",
    "function_that_prints() ## this is just the effect of print()"
   ]
  },
  {
   "cell_type": "markdown",
   "id": "65195295",
   "metadata": {},
   "source": [
    "## If Statements\n"
   ]
  },
  {
   "cell_type": "code",
   "execution_count": 6,
   "id": "cd6990b3",
   "metadata": {},
   "outputs": [
    {
     "name": "stdout",
     "output_type": "stream",
     "text": [
      "you are a male\n",
      "you are a short male\n"
     ]
    }
   ],
   "source": [
    "# some starting example\n",
    "is_male = True\n",
    "is_tall = False\n",
    "\n",
    "if is_male: ## by default set as a true variable then print\n",
    "    print(\"you are a male\")\n",
    "else:\n",
    "    print(\"you are female\")\n",
    "\n",
    "## using and/or statements\n",
    "if is_male and is_tall:\n",
    "    print(\"you are a tall male\")\n",
    "elif is_male and not(is_tall): ## not will negate is_tall value\n",
    "    print(\"you are a short male\")\n",
    "## could add more conditions\n",
    "else:\n",
    "    print(\"you are not a tall male\")"
   ]
  },
  {
   "cell_type": "markdown",
   "id": "3f43bb51",
   "metadata": {},
   "source": [
    "## Comparison Operator"
   ]
  },
  {
   "cell_type": "code",
   "execution_count": 19,
   "id": "e80681ba",
   "metadata": {},
   "outputs": [],
   "source": [
    "def maxNum(num1,num2,num3):\n",
    "    if num1 >= num2 and num1 >= num3:\n",
    "        return num1\n",
    "    elif num2 >= num1 and num2 >= num3:\n",
    "        return num2\n",
    "    else:\n",
    "        return num3"
   ]
  },
  {
   "cell_type": "code",
   "execution_count": 23,
   "id": "a977ee3b",
   "metadata": {},
   "outputs": [
    {
     "data": {
      "text/plain": [
       "90"
      ]
     },
     "execution_count": 23,
     "metadata": {},
     "output_type": "execute_result"
    }
   ],
   "source": [
    "maxNum(15,22,90)"
   ]
  },
  {
   "cell_type": "markdown",
   "id": "10f68897",
   "metadata": {},
   "source": [
    "## Basic Calculator"
   ]
  },
  {
   "cell_type": "code",
   "execution_count": 29,
   "id": "d50e106f",
   "metadata": {},
   "outputs": [
    {
     "name": "stdout",
     "output_type": "stream",
     "text": [
      "enter first number : 652\n",
      "enter operator : /\n",
      "enter second number : 5\n",
      "130.4\n"
     ]
    }
   ],
   "source": [
    "num1 = float(input(\"enter first number : \"))\n",
    "op = input(\"enter operator : \")\n",
    "num2 = float(input(\"enter second number : \"))\n",
    "\n",
    "if op == \"+\":\n",
    "    print(num1 + num2)\n",
    "elif op == \"-\":\n",
    "    print(num1 - num2)\n",
    "elif op == \"/\":\n",
    "    print(num1 / num2)\n",
    "elif op == \"*\":\n",
    "    print(num1 * num2)\n",
    "else:\n",
    "    print(\"not valid operator\")"
   ]
  },
  {
   "cell_type": "code",
   "execution_count": 37,
   "id": "c669215c",
   "metadata": {},
   "outputs": [
    {
     "name": "stdout",
     "output_type": "stream",
     "text": [
      "['hhe']\n"
     ]
    }
   ],
   "source": [
    "# add a list\n",
    "array = []\n",
    "array.append(\"hhe\")\n",
    "print(array)"
   ]
  },
  {
   "cell_type": "markdown",
   "id": "a56652cc",
   "metadata": {},
   "source": [
    "## Dictionary"
   ]
  },
  {
   "cell_type": "code",
   "execution_count": 42,
   "id": "d419c2c0",
   "metadata": {},
   "outputs": [
    {
     "name": "stdout",
     "output_type": "stream",
     "text": [
      "April\n",
      "December\n",
      "Not a valid key\n"
     ]
    }
   ],
   "source": [
    "# create dictionary\n",
    "monthConversion = {\n",
    "    \"jan\" : \"January\",\n",
    "    \"Feb\" : \"February\",\n",
    "    \"Mar\" : \"March\",\n",
    "    \"Apr\" : \"April\",\n",
    "    \"May\" : \"May\",\n",
    "    \"Jun\" : \"June\",\n",
    "    \"Jul\" : \"July\",\n",
    "    \"Aug\" : \"August\",\n",
    "    \"Sep\" : \"September\",\n",
    "    \"Oct\" : \"October\",\n",
    "    \"Nov\" : \"November\",\n",
    "    \"Dec\" : \"December\"\n",
    "}\n",
    "\n",
    "print(monthConversion['Apr']) ## to callback the dict\n",
    "print(monthConversion.get('Dec','Not a valid key')) ## another version to callback\n",
    "print(monthConversion.get('Jup','Not a valid key')) ## to add default key\n"
   ]
  },
  {
   "cell_type": "markdown",
   "id": "f7f070f8",
   "metadata": {},
   "source": [
    "## While loop"
   ]
  },
  {
   "cell_type": "code",
   "execution_count": 46,
   "id": "db48e8b4",
   "metadata": {},
   "outputs": [
    {
     "name": "stdout",
     "output_type": "stream",
     "text": [
      "1\n",
      "2\n",
      "3\n",
      "4\n",
      "5\n",
      "6\n",
      "7\n",
      "8\n",
      "9\n",
      "10\n",
      "done with loop\n"
     ]
    }
   ],
   "source": [
    "i = 1\n",
    "while i <= 10: ## everything that returns to true is still looping\n",
    "    print(i)\n",
    "    i = i + 1\n",
    "## will ends with 11 value that <= 10\n",
    "    \n",
    "print(\"done with loop\")"
   ]
  },
  {
   "cell_type": "markdown",
   "id": "4437340c",
   "metadata": {},
   "source": [
    "## Basic Guessing Game\n",
    "\n",
    "Basic of this code is to check wether user could guess the input magic word or not, if they not, they will lose"
   ]
  },
  {
   "cell_type": "code",
   "execution_count": 51,
   "id": "db7f61ce",
   "metadata": {},
   "outputs": [
    {
     "name": "stdout",
     "output_type": "stream",
     "text": [
      "enter guess: dask\n",
      "enter guess: giraffe\n",
      "You Win!\n"
     ]
    }
   ],
   "source": [
    "secret_word = \"giraffe\"\n",
    "guess = \"\"\n",
    "guess_count = 0\n",
    "limit = 3\n",
    "out_of_guesses = False\n",
    "\n",
    "while guess != secret_word and not(out_of_guesses): ## as long as this is true, the loops still counting\n",
    "    if guess_count < limit:\n",
    "        guess = input(\"enter guess: \")\n",
    "        guess_count += 1\n",
    "    else :\n",
    "        out_of_guesses = True\n",
    "        \n",
    "if out_of_guesses :\n",
    "    print(\"you out of guesses, You Lose!\")\n",
    "else :\n",
    "    print(\"You Win!\")\n",
    "    "
   ]
  },
  {
   "cell_type": "markdown",
   "id": "d4d576b2",
   "metadata": {},
   "source": [
    "# For Loop"
   ]
  },
  {
   "cell_type": "code",
   "execution_count": 2,
   "id": "dd883863",
   "metadata": {},
   "outputs": [
    {
     "name": "stdout",
     "output_type": "stream",
     "text": [
      "G\n",
      "i\n",
      "r\n",
      "a\n",
      "f\n",
      "f\n",
      "e\n",
      " \n",
      "A\n",
      "c\n",
      "a\n",
      "d\n",
      "e\n",
      "m\n",
      "y\n"
     ]
    }
   ],
   "source": [
    "for letter in \"Giraffe Academy\": # looping run in every index\n",
    "    print(letter)"
   ]
  },
  {
   "cell_type": "code",
   "execution_count": 9,
   "id": "aa47a5fa",
   "metadata": {},
   "outputs": [
    {
     "name": "stdout",
     "output_type": "stream",
     "text": [
      "robbin\n",
      "jim\n",
      "arnold\n",
      "there is 3 Friends!\n"
     ]
    }
   ],
   "source": [
    "friends = [\"robbin\",\"jim\",\"arnold\"] # looping trhough index in array\n",
    "num = len(friends)\n",
    "for name in friends :\n",
    "    print(name)\n",
    "print(\"there is \" + str(num) + \" Friends!\")"
   ]
  },
  {
   "cell_type": "code",
   "execution_count": 11,
   "id": "da6db151",
   "metadata": {},
   "outputs": [
    {
     "name": "stdout",
     "output_type": "stream",
     "text": [
      "5\n",
      "6\n",
      "7\n",
      "8\n",
      "9\n"
     ]
    }
   ],
   "source": [
    "# another example\n",
    "for index in range(5,10):\n",
    "    print(index)"
   ]
  },
  {
   "cell_type": "code",
   "execution_count": 13,
   "id": "1ec6e323",
   "metadata": {},
   "outputs": [
    {
     "name": "stdout",
     "output_type": "stream",
     "text": [
      "first itteration\n",
      "not first\n",
      "not first\n",
      "not first\n",
      "not first\n"
     ]
    }
   ],
   "source": [
    "# slight complex script (added if statements)\n",
    "for index in range(5):\n",
    "    if index == 0:\n",
    "        print(\"first itteration\")\n",
    "    else:\n",
    "        print(\"not first\")"
   ]
  },
  {
   "cell_type": "markdown",
   "id": "c7d1b3e4",
   "metadata": {},
   "source": [
    "## Exponent Function"
   ]
  },
  {
   "cell_type": "code",
   "execution_count": 16,
   "id": "e365717f",
   "metadata": {},
   "outputs": [
    {
     "name": "stdout",
     "output_type": "stream",
     "text": [
      "16\n"
     ]
    }
   ],
   "source": [
    "def raise_to_power(base_num, pow_num):\n",
    "    result = 1\n",
    "    for i in range(pow_num):\n",
    "        result = result * base_num ## result will change to base_num\n",
    "    return result\n",
    "print(raise_to_power(2,4))"
   ]
  }
 ],
 "metadata": {
  "kernelspec": {
   "display_name": "Python 3 (ipykernel)",
   "language": "python",
   "name": "python3"
  },
  "language_info": {
   "codemirror_mode": {
    "name": "ipython",
    "version": 3
   },
   "file_extension": ".py",
   "mimetype": "text/x-python",
   "name": "python",
   "nbconvert_exporter": "python",
   "pygments_lexer": "ipython3",
   "version": "3.9.7"
  }
 },
 "nbformat": 4,
 "nbformat_minor": 5
}
